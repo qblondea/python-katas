{
 "cells": [
  {
   "cell_type": "code",
   "execution_count": 20,
   "id": "8850739d",
   "metadata": {},
   "outputs": [],
   "source": [
    "import unicodedata\n",
    "import sys, pathlib"
   ]
  },
  {
   "cell_type": "markdown",
   "id": "ecdd152d",
   "metadata": {},
   "source": [
    "# 1. Palindrome robuste"
   ]
  },
  {
   "cell_type": "code",
   "execution_count": null,
   "id": "f0191fa1",
   "metadata": {},
   "outputs": [],
   "source": []
  },
  {
   "cell_type": "markdown",
   "id": "72877033",
   "metadata": {},
   "source": [
    "1. First draft"
   ]
  },
  {
   "cell_type": "code",
   "execution_count": 21,
   "id": "810e056b",
   "metadata": {},
   "outputs": [],
   "source": [
    "def is_palindrome_0(s: str) -> bool:\n",
    "    if s is None:\n",
    "        return False\n",
    "    n = len(s)\n",
    "    for i in range(n // 2):\n",
    "        if s[i] != s[n - 1 - i]:\n",
    "            return False\n",
    "    return True\n"
   ]
  },
  {
   "cell_type": "markdown",
   "id": "5e013f89",
   "metadata": {},
   "source": [
    "2. Second draft"
   ]
  },
  {
   "cell_type": "code",
   "execution_count": 22,
   "id": "dc3c4d71",
   "metadata": {},
   "outputs": [],
   "source": [
    "def is_palindrome_1(s: str) -> bool:\n",
    "\n",
    "    # normalise unicode, retire diacritiques et passe en minuscule\n",
    "    s_norm = unicodedata.normalize(\"NFD\", s)\n",
    "    s_norm = \"\".join(ch for ch in s_norm if unicodedata.category(ch) != \"Mn\")\n",
    "    t = \"\".join(ch.lower() for ch in s_norm if ch.isalnum())\n",
    "\n",
    "    palindrome = True\n",
    "\n",
    "    i, j = 0, len(t) - 1\n",
    "    while i < j:\n",
    "        if t[i] != t[j]:\n",
    "            palindrome = False\n",
    "        i += 1\n",
    "        j -= 1\n",
    "    \n",
    "    return palindrome \n",
    "\n"
   ]
  },
  {
   "cell_type": "markdown",
   "id": "416bf937",
   "metadata": {},
   "source": [
    "3. Third draft"
   ]
  },
  {
   "cell_type": "code",
   "execution_count": 23,
   "id": "e87ff2aa",
   "metadata": {},
   "outputs": [],
   "source": [
    "def is_palindrome_2(s: str) -> bool:\n",
    "    \"\"\"\n",
    "\n",
    "    Détermine si une chaîne est un palindrome en ignorant la casse et les caractères non alphanumériques (accents normalisés).\n",
    "\n",
    "    Complexité: O(n) en temps, O(n) en mémoire (pour la version filtrée).\n",
    "\n",
    "    \"\"\"\n",
    "    if s is None:\n",
    "        return False\n",
    "\n",
    "    # Normalisation Unicode (enlève les diacritiques) + minuscule\n",
    "    s_norm = unicodedata.normalize(\"NFD\", s)\n",
    "    s_norm = \"\".join(ch for ch in s_norm if unicodedata.category(ch) != \"Mn\")\n",
    "    s_norm = s_norm.lower()\n",
    "\n",
    "    # Filtrage: on ne garde que les alphanumériques\n",
    "    filtered = [ch for ch in s_norm if ch.isalnum()]\n",
    "\n",
    "    # Test palindrome par comparaison miroir\n",
    "    return filtered == filtered[::-1]"
   ]
  },
  {
   "cell_type": "code",
   "execution_count": 24,
   "id": "c39ec00d",
   "metadata": {},
   "outputs": [],
   "source": [
    "\n",
    "assert is_palindrome_1(\"kayak\") is True\n",
    "assert is_palindrome_1(\"A man, a plan, a canal: Panama!\") is True\n",
    "assert is_palindrome_1(\"été\") is True\n",
    "assert is_palindrome_1(\"python\") is False\n"
   ]
  },
  {
   "cell_type": "code",
   "execution_count": 25,
   "id": "5703b6f2",
   "metadata": {},
   "outputs": [
    {
     "data": {
      "text/plain": [
       "True"
      ]
     },
     "execution_count": 25,
     "metadata": {},
     "output_type": "execute_result"
    }
   ],
   "source": [
    "\n",
    "is_palindrome_0(\"kayak\")"
   ]
  },
  {
   "cell_type": "markdown",
   "id": "6ff5f3d0",
   "metadata": {},
   "source": [
    "Tests"
   ]
  },
  {
   "cell_type": "code",
   "execution_count": 27,
   "id": "0756ed4c",
   "metadata": {},
   "outputs": [
    {
     "ename": "ModuleNotFoundError",
     "evalue": "No module named 'katas'",
     "output_type": "error",
     "traceback": [
      "\u001b[1;31m---------------------------------------------------------------------------\u001b[0m",
      "\u001b[1;31mModuleNotFoundError\u001b[0m                       Traceback (most recent call last)",
      "\u001b[1;32m<ipython-input-27-d8eb724e7b08>\u001b[0m in \u001b[0;36m<module>\u001b[1;34m\u001b[0m\n\u001b[0;32m      1\u001b[0m \u001b[1;32mimport\u001b[0m \u001b[0mpytest\u001b[0m\u001b[1;33m\u001b[0m\u001b[1;33m\u001b[0m\u001b[0m\n\u001b[0;32m      2\u001b[0m \u001b[1;33m\u001b[0m\u001b[0m\n\u001b[1;32m----> 3\u001b[1;33m \u001b[1;32mfrom\u001b[0m \u001b[0mkatas\u001b[0m\u001b[1;33m.\u001b[0m\u001b[0mpalindrome\u001b[0m \u001b[1;32mimport\u001b[0m \u001b[0mis_palindrome_1\u001b[0m\u001b[1;33m\u001b[0m\u001b[1;33m\u001b[0m\u001b[0m\n\u001b[0m\u001b[0;32m      4\u001b[0m \u001b[1;33m\u001b[0m\u001b[0m\n\u001b[0;32m      5\u001b[0m @pytest.mark.parametrize(\"s,expected\", [\n",
      "\u001b[1;31mModuleNotFoundError\u001b[0m: No module named 'katas'"
     ]
    }
   ],
   "source": [
    "import pytest\n",
    "\n",
    "from katas.palindrome import is_palindrome_1\n",
    "\n",
    "@pytest.mark.parametrize(\"s,expected\", [\n",
    "    (\"kayak\", True),\n",
    "    (\"\", True),\n",
    "    (\"A man, a plan, a canal: Panama!\", True),\n",
    "    (\"No 'x' in Nixon\", True),\n",
    "    (\"été\", True),                 # avec accents\n",
    "    (\"python\", False),\n",
    "    (\"ab\", False),\n",
    "    (None, False),                 # si vous choisissez de renvoyer False pour None\n",
    "])\n",
    "def test_is_palindrome(s, expected):\n",
    "    assert is_palindrome_1(s) is expected\n"
   ]
  },
  {
   "cell_type": "markdown",
   "id": "403f6105",
   "metadata": {},
   "source": [
    "#### Lexiques\n",
    "Signe diacritique : signe graphique (point, accent…) qui empêche la confusion entre homographes*. Les accents des mots à, dû, où sont des signes diacritiques. "
   ]
  },
  {
   "cell_type": "markdown",
   "id": "68189b36",
   "metadata": {},
   "source": [
    "# 2. Factorial"
   ]
  },
  {
   "cell_type": "markdown",
   "id": "26f30d10",
   "metadata": {},
   "source": [
    "0! = 1 par convention,\n",
    "\n",
    "n doit être un entier ≥ 0,\n",
    "\n",
    "sinon, on doit lever une erreur appropriée."
   ]
  },
  {
   "cell_type": "markdown",
   "id": "31142692",
   "metadata": {},
   "source": [
    "#### 2.1 Factorial - first draft"
   ]
  },
  {
   "cell_type": "code",
   "execution_count": 13,
   "id": "39ff3e6a",
   "metadata": {},
   "outputs": [],
   "source": [
    "def factorial_0(n: int)-> int:\n",
    "    r = 1\n",
    "    if n == 0:\n",
    "        return 1\n",
    "    else:\n",
    "        for k in range(2,n+1):\n",
    "            r *= k\n",
    "        return r"
   ]
  },
  {
   "cell_type": "code",
   "execution_count": 16,
   "id": "6c4d9481",
   "metadata": {},
   "outputs": [
    {
     "name": "stdout",
     "output_type": "stream",
     "text": [
      "0 : 1\n",
      "1 : 1\n",
      "2 : 2\n",
      "3 : 6\n",
      "4 : 24\n",
      "5 : 120\n",
      "6 : 720\n",
      "7 : 5040\n",
      "8 : 40320\n",
      "9 : 362880\n",
      "10 : 3628800\n"
     ]
    }
   ],
   "source": [
    "for i in range(11):\n",
    "    print(i,\":\",factorial_0(i))"
   ]
  },
  {
   "cell_type": "code",
   "execution_count": 17,
   "id": "6ec922b5",
   "metadata": {},
   "outputs": [],
   "source": [
    "def factorial(n: int) -> int:\n",
    "    \"\"\"\n",
    "    Calcule la factorielle d'un entier n (n!).\n",
    "    \n",
    "    Raises:\n",
    "        TypeError: si n n'est pas un int\n",
    "        ValueError: si n est négatif\n",
    "    \"\"\"\n",
    "    if not isinstance(n, int):\n",
    "        raise TypeError(\"n must be an int\")\n",
    "    if n < 0:\n",
    "        raise ValueError(\"n must be >= 0\")\n",
    "\n",
    "    result = 1\n",
    "    for i in range(2, n + 1):\n",
    "        result *= i\n",
    "    return result\n"
   ]
  },
  {
   "cell_type": "code",
   "execution_count": null,
   "id": "1487ccc1",
   "metadata": {},
   "outputs": [
    {
     "ename": "ModuleNotFoundError",
     "evalue": "No module named 'src'",
     "output_type": "error",
     "traceback": [
      "\u001b[1;31m---------------------------------------------------------------------------\u001b[0m",
      "\u001b[1;31mModuleNotFoundError\u001b[0m                       Traceback (most recent call last)",
      "\u001b[1;32m<ipython-input-18-555bb92280ad>\u001b[0m in \u001b[0;36m<module>\u001b[1;34m\u001b[0m\n\u001b[1;32m----> 1\u001b[1;33m \u001b[1;32mfrom\u001b[0m \u001b[0msrc\u001b[0m\u001b[1;33m.\u001b[0m\u001b[0mfactorial\u001b[0m \u001b[1;32mimport\u001b[0m \u001b[0mfactorial\u001b[0m  \u001b[1;31m# si ton fichier est katas.py\u001b[0m\u001b[1;33m\u001b[0m\u001b[1;33m\u001b[0m\u001b[0m\n\u001b[0m\u001b[0;32m      2\u001b[0m \u001b[1;33m\u001b[0m\u001b[0m\n\u001b[0;32m      3\u001b[0m @pytest.mark.parametrize(\"n,expected\", [\n\u001b[0;32m      4\u001b[0m     \u001b[1;33m(\u001b[0m\u001b[1;36m0\u001b[0m\u001b[1;33m,\u001b[0m \u001b[1;36m1\u001b[0m\u001b[1;33m)\u001b[0m\u001b[1;33m,\u001b[0m\u001b[1;33m\u001b[0m\u001b[1;33m\u001b[0m\u001b[0m\n\u001b[0;32m      5\u001b[0m     \u001b[1;33m(\u001b[0m\u001b[1;36m1\u001b[0m\u001b[1;33m,\u001b[0m \u001b[1;36m1\u001b[0m\u001b[1;33m)\u001b[0m\u001b[1;33m,\u001b[0m\u001b[1;33m\u001b[0m\u001b[1;33m\u001b[0m\u001b[0m\n",
      "\u001b[1;31mModuleNotFoundError\u001b[0m: No module named 'src'"
     ]
    }
   ],
   "source": [
    "from src.factorial import factorial \n",
    "\n",
    "@pytest.mark.parametrize(\"n,expected\", [\n",
    "    (0, 1),\n",
    "    (1, 1),\n",
    "    (5, 120),\n",
    "    (6, 720),\n",
    "])\n",
    "def test_factorial_values(n, expected):\n",
    "    assert factorial(n) == expected\n",
    "\n",
    "def test_factorial_negative():\n",
    "    with pytest.raises(ValueError):\n",
    "        factorial(-1)\n",
    "\n",
    "def test_factorial_non_int():\n",
    "    with pytest.raises(TypeError):\n",
    "        factorial(3.5)  # type: ignore\n",
    "    with pytest.raises(TypeError):\n",
    "        factorial(\"10\")  # type: ignore\n"
   ]
  },
  {
   "cell_type": "markdown",
   "id": "22a8852a",
   "metadata": {},
   "source": [
    "# 3. Fibonacci"
   ]
  },
  {
   "cell_type": "markdown",
   "id": "d4f68a0e",
   "metadata": {},
   "source": [
    "But : renvoyer F(n) avec boucle.  \n",
    "\n",
    "I/O : fib(n: int) -> int  \n",
    "\n",
    "Contraintes : n>=0, gérer types ; O(n).  \n",
    "\n",
    "Tests : 0→0, 1→1, 2→1, 7→13, erreurs pour -2, 1.5.  \n",
    "\n",
    "Critères : aucun appel récursif.  \n",
    "\n",
    "Extensions : version en temps O(log n) (exponentiation de matrices)."
   ]
  },
  {
   "cell_type": "code",
   "execution_count": 62,
   "id": "54c6c396",
   "metadata": {},
   "outputs": [],
   "source": [
    "def Fibonacci(n:int) -> int:\n",
    "\n",
    "    \"\"\"\n",
    "    Renvoie le n-ième nombre de Fibonacci (0-indexé).\n",
    "    F(0)=0, F(1)=1, puis F(n)=F(n-1)+F(n-2) pour n>=2.\n",
    "\n",
    "    Raises:\n",
    "        TypeError: si n n'est pas un int.\n",
    "        ValueError: si n < 0.\n",
    "    \"\"\"\n",
    "\n",
    "    if not isinstance(n, int):\n",
    "        raise TypeError(\"n must be an int\")\n",
    "    if n < 0:\n",
    "        raise ValueError(\"n must be >= 0\")\n",
    "    \n",
    "    A = [0,1]\n",
    "\n",
    "    if n < 2:\n",
    "        return A[n]\n",
    "    \n",
    "    else:\n",
    "        for i in range(2, n + 1):\n",
    "                A.append(A[i - 1] + A[i - 2])\n",
    "        return A[len(A)-1]\n",
    "\n",
    "    "
   ]
  },
  {
   "cell_type": "code",
   "execution_count": 63,
   "id": "d2fb69ab",
   "metadata": {},
   "outputs": [
    {
     "name": "stdout",
     "output_type": "stream",
     "text": [
      "0 : 0\n",
      "1 : 1\n",
      "2 : 1\n",
      "3 : 2\n",
      "4 : 3\n",
      "5 : 5\n",
      "6 : 8\n",
      "7 : 13\n",
      "8 : 21\n",
      "9 : 34\n",
      "10 : 55\n"
     ]
    }
   ],
   "source": [
    "for n in range(11):\n",
    "    print(n,\":\",Fibonacci(n))\n"
   ]
  },
  {
   "cell_type": "markdown",
   "id": "d445e6c7",
   "metadata": {},
   "source": [
    "# 4. Anagram"
   ]
  },
  {
   "cell_type": "code",
   "execution_count": 77,
   "id": "9cf210ec",
   "metadata": {},
   "outputs": [],
   "source": [
    "import unicodedata\n",
    "from collections import Counter"
   ]
  },
  {
   "cell_type": "code",
   "execution_count": 78,
   "id": "9dce045a",
   "metadata": {},
   "outputs": [],
   "source": [
    "def _normalize(s: str) -> str:\n",
    "    \"\"\"\n",
    "    Normalise une chaîne :\n",
    "    - décomposition Unicode (NFD)\n",
    "    - suppression des diacritiques (catégorie Mn)\n",
    "    - passage en minuscules\n",
    "    - conservation des seuls alphanumériques\n",
    "    \"\"\"\n",
    "    s_nfd = unicodedata.normalize(\"NFD\", s)\n",
    "    no_diacritics = \"\".join(ch for ch in s_nfd if unicodedata.category(ch) != \"Mn\")\n",
    "    return \"\".join(ch.lower() for ch in no_diacritics if ch.isalnum())"
   ]
  },
  {
   "cell_type": "code",
   "execution_count": 80,
   "id": "787f68b9",
   "metadata": {},
   "outputs": [],
   "source": [
    "def is_anagram(a: str, b: str) -> bool:\n",
    "\n",
    "    if a is None:\n",
    "        return False\n",
    "        \n",
    "    a_norm = _normalize(a)\n",
    "    b_norm = _normalize(b)\n",
    "    \n",
    "    if len(a_norm) != len(b_norm):\n",
    "        return False\n",
    "\n",
    "    return Counter(a_norm) == Counter(b_norm)"
   ]
  },
  {
   "cell_type": "code",
   "execution_count": null,
   "id": "74216301",
   "metadata": {},
   "outputs": [],
   "source": [
    "import pytest\n",
    "from src.anagram import is_anagram  # adapte l'import selon ton module\n",
    "\n",
    "@pytest.mark.parametrize(\"a,b,expected\", [\n",
    "    (\"listen\", \"silent\", True),\n",
    "    (\"Listen\", \"Silent\", True),                                  # casse ignorée\n",
    "    (\"Dormitory\", \"Dirty room!!\", True),                         # espaces/ponctuation ignorés\n",
    "    (\"Été\", \"ête\", True),                                        # diacritiques ignorés\n",
    "    (\"éèàç\", \"aeec\", True),                                      # normalisation étendue\n",
    "    (\"A gentleman\", \"Elegant man\", True),\n",
    "    (\"William Shakespeare\", \"I am a weakish speller\", True),\n",
    "    (\"apple\", \"pale\", False),\n",
    "    (\"ab\", \"a b c\", False),\n",
    "    (\"\", \"\", True),                                              # deux vides considérés anagrammes\n",
    "])\n",
    "def test_is_anagram(a, b, expected):\n",
    "    assert is_anagram(a, b) is expected\n",
    "\n",
    "def test_is_anagram_none():\n",
    "    assert is_anagram(None, \"abc\") is False      # type: ignore[arg-type]\n",
    "    assert is_anagram(\"abc\", None) is False      # type: ignore[arg-type]\n",
    "    assert is_anagram(None, None) is False       # type: ignore[arg-type]\n"
   ]
  },
  {
   "cell_type": "code",
   "execution_count": 85,
   "id": "fa562d47",
   "metadata": {},
   "outputs": [
    {
     "data": {
      "text/plain": [
       "True"
      ]
     },
     "execution_count": 85,
     "metadata": {},
     "output_type": "execute_result"
    }
   ],
   "source": [
    "is_anagram(\"listen\", \"silent\")"
   ]
  }
 ],
 "metadata": {
  "kernelspec": {
   "display_name": "Python 3",
   "language": "python",
   "name": "python3"
  },
  "language_info": {
   "codemirror_mode": {
    "name": "ipython",
    "version": 3
   },
   "file_extension": ".py",
   "mimetype": "text/x-python",
   "name": "python",
   "nbconvert_exporter": "python",
   "pygments_lexer": "ipython3",
   "version": "3.8.8"
  }
 },
 "nbformat": 4,
 "nbformat_minor": 5
}
