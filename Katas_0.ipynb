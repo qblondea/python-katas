{
 "cells": [
  {
   "cell_type": "code",
   "execution_count": 3,
   "id": "8850739d",
   "metadata": {},
   "outputs": [],
   "source": [
    "import numpy as np\n",
    "import unicodedata\n",
    "import string"
   ]
  },
  {
   "cell_type": "markdown",
   "id": "ecdd152d",
   "metadata": {},
   "source": [
    "# 1. Palindrome robuste"
   ]
  },
  {
   "cell_type": "markdown",
   "id": "72877033",
   "metadata": {},
   "source": [
    "1. First draft"
   ]
  },
  {
   "cell_type": "code",
   "execution_count": 31,
   "id": "810e056b",
   "metadata": {},
   "outputs": [],
   "source": [
    "def is_palindrome_0(s: str) -> bool:\n",
    "    if s is None:\n",
    "        return False\n",
    "    n = len(s)\n",
    "    for i in range(n // 2):\n",
    "        if s[i] != s[n - 1 - i]:\n",
    "            return False\n",
    "    return True\n"
   ]
  },
  {
   "cell_type": "markdown",
   "id": "5e013f89",
   "metadata": {},
   "source": [
    "2. Second draft"
   ]
  },
  {
   "cell_type": "code",
   "execution_count": 32,
   "id": "dc3c4d71",
   "metadata": {},
   "outputs": [],
   "source": [
    "def is_palindrome_1(s: str) -> bool:\n",
    "\n",
    "    # normalise unicode, retire diacritiques et passe en minuscule\n",
    "    s_norm = unicodedata.normalize(\"NFD\", s)\n",
    "    s_norm = \"\".join(ch for ch in s_norm if unicodedata.category(ch) != \"Mn\")\n",
    "    t = \"\".join(ch.lower() for ch in s_norm if ch.isalnum())\n",
    "\n",
    "    palindrome = True\n",
    "\n",
    "    i, j = 0, len(t) - 1\n",
    "    while i < j:\n",
    "        if t[i] != t[j]:\n",
    "            palindrome = False\n",
    "        i += 1\n",
    "        j -= 1\n",
    "    \n",
    "    return palindrome \n",
    "\n"
   ]
  },
  {
   "cell_type": "markdown",
   "id": "416bf937",
   "metadata": {},
   "source": [
    "3. Third draft"
   ]
  },
  {
   "cell_type": "code",
   "execution_count": null,
   "id": "e87ff2aa",
   "metadata": {},
   "outputs": [],
   "source": [
    "def is_palindrome_2(s: str) -> bool:\n",
    "    \"\"\"\n",
    "\n",
    "    Détermine si une chaîne est un palindrome en ignorant la casse et les caractères non alphanumériques (accents normalisés).\n",
    "\n",
    "    Complexité: O(n) en temps, O(n) en mémoire (pour la version filtrée).\n",
    "\n",
    "    \"\"\"\n",
    "    if s is None:\n",
    "        return False\n",
    "\n",
    "    # Normalisation Unicode (enlève les diacritiques) + minuscule\n",
    "    s_norm = unicodedata.normalize(\"NFD\", s)\n",
    "    s_norm = \"\".join(ch for ch in s_norm if unicodedata.category(ch) != \"Mn\")\n",
    "    s_norm = s_norm.lower()\n",
    "\n",
    "    # Filtrage: on ne garde que les alphanumériques\n",
    "    filtered = [ch for ch in s_norm if ch.isalnum()]\n",
    "\n",
    "    # Test palindrome par comparaison miroir\n",
    "    return filtered == filtered[::-1]"
   ]
  },
  {
   "cell_type": "code",
   "execution_count": 8,
   "id": "c39ec00d",
   "metadata": {},
   "outputs": [],
   "source": [
    "\n",
    "assert is_palindrome_1(\"kayak\") is True\n",
    "assert is_palindrome_1(\"A man, a plan, a canal: Panama!\") is True\n",
    "assert is_palindrome_1(\"été\") is True\n",
    "assert is_palindrome_1(\"python\") is False\n"
   ]
  },
  {
   "cell_type": "code",
   "execution_count": 9,
   "id": "5703b6f2",
   "metadata": {},
   "outputs": [
    {
     "data": {
      "text/plain": [
       "True"
      ]
     },
     "execution_count": 9,
     "metadata": {},
     "output_type": "execute_result"
    }
   ],
   "source": [
    "\n",
    "is_palindrome_0(\"kayak\")"
   ]
  },
  {
   "cell_type": "markdown",
   "id": "6ff5f3d0",
   "metadata": {},
   "source": [
    "Tests"
   ]
  },
  {
   "cell_type": "code",
   "execution_count": 38,
   "id": "0756ed4c",
   "metadata": {},
   "outputs": [],
   "source": [
    "import pytest\n",
    "\n",
    "from katas import is_palindrome_1\n",
    "\n",
    "@pytest.mark.parametrize(\"s,expected\", [\n",
    "    (\"kayak\", True),\n",
    "    (\"\", True),\n",
    "    (\"A man, a plan, a canal: Panama!\", True),\n",
    "    (\"No 'x' in Nixon\", True),\n",
    "    (\"été\", True),                 # avec accents\n",
    "    (\"python\", False),\n",
    "    (\"ab\", False),\n",
    "    (None, False),                 # si vous choisissez de renvoyer False pour None\n",
    "])\n",
    "def test_is_palindrome(s, expected):\n",
    "    assert is_palindrome_1(s) is expected\n"
   ]
  },
  {
   "cell_type": "markdown",
   "id": "403f6105",
   "metadata": {},
   "source": [
    "#### Lexiques\n",
    "Signe diacritique : signe graphique (point, accent…) qui empêche la confusion entre homographes*. Les accents des mots à, dû, où sont des signes diacritiques. "
   ]
  },
  {
   "cell_type": "markdown",
   "id": "68189b36",
   "metadata": {},
   "source": [
    "# 2. Factorial"
   ]
  },
  {
   "cell_type": "code",
   "execution_count": null,
   "id": "39ff3e6a",
   "metadata": {},
   "outputs": [],
   "source": [
    "def factorial(n: int)-> int:\n",
    "    r = 1\n",
    "    if n == 0:\n",
    "        return 1\n",
    "    else:\n",
    "        for k in range(2,n+1):\n",
    "            r *= k\n",
    "        return r"
   ]
  },
  {
   "cell_type": "code",
   "execution_count": 17,
   "id": "6c4d9481",
   "metadata": {},
   "outputs": [
    {
     "data": {
      "text/plain": [
       "1"
      ]
     },
     "execution_count": 17,
     "metadata": {},
     "output_type": "execute_result"
    }
   ],
   "source": [
    "# On teste avec 0\n",
    "factorielle(0)"
   ]
  },
  {
   "cell_type": "code",
   "execution_count": 18,
   "id": "dd67fd4d",
   "metadata": {},
   "outputs": [
    {
     "data": {
      "text/plain": [
       "24"
      ]
     },
     "execution_count": 18,
     "metadata": {},
     "output_type": "execute_result"
    }
   ],
   "source": [
    "# On teste avec 4\n",
    "factorielle(4)"
   ]
  },
  {
   "cell_type": "code",
   "execution_count": 19,
   "id": "8680e9ee",
   "metadata": {},
   "outputs": [
    {
     "data": {
      "text/plain": [
       "3628800"
      ]
     },
     "execution_count": 19,
     "metadata": {},
     "output_type": "execute_result"
    }
   ],
   "source": [
    "# On teste avec 10\n",
    "factorielle(10)"
   ]
  }
 ],
 "metadata": {
  "kernelspec": {
   "display_name": "base",
   "language": "python",
   "name": "python3"
  },
  "language_info": {
   "codemirror_mode": {
    "name": "ipython",
    "version": 3
   },
   "file_extension": ".py",
   "mimetype": "text/x-python",
   "name": "python",
   "nbconvert_exporter": "python",
   "pygments_lexer": "ipython3",
   "version": "3.8.8"
  }
 },
 "nbformat": 4,
 "nbformat_minor": 5
}
