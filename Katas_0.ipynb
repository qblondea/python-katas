{
 "cells": [
  {
   "cell_type": "code",
   "execution_count": 3,
   "id": "8850739d",
   "metadata": {},
   "outputs": [],
   "source": [
    "import numpy as np\n",
    "import unicodedata\n",
    "import string"
   ]
  },
  {
   "cell_type": "markdown",
   "id": "ecdd152d",
   "metadata": {},
   "source": [
    "Palindrome robuste"
   ]
  },
  {
   "cell_type": "code",
   "execution_count": 31,
   "id": "810e056b",
   "metadata": {},
   "outputs": [],
   "source": [
    "def is_palindrome_0(s: str) -> bool:\n",
    "    if s is None:\n",
    "        return False\n",
    "    n = len(s)\n",
    "    for i in range(n // 2):\n",
    "        if s[i] != s[n - 1 - i]:\n",
    "            return False\n",
    "    return True\n"
   ]
  },
  {
   "cell_type": "code",
   "execution_count": 32,
   "id": "dc3c4d71",
   "metadata": {},
   "outputs": [],
   "source": [
    "def is_palindrome_1(s: str) -> bool:\n",
    "\n",
    "    # normalise unicode, retire diacritiques et passe en minuscule\n",
    "    s_norm = unicodedata.normalize(\"NFD\", s)\n",
    "    s_norm = \"\".join(ch for ch in s_norm if unicodedata.category(ch) != \"Mn\")\n",
    "    t = \"\".join(ch.lower() for ch in s_norm if ch.isalnum())\n",
    "\n",
    "    palindrome = True\n",
    "\n",
    "    i, j = 0, len(t) - 1\n",
    "    while i < j:\n",
    "        if t[i] != t[j]:\n",
    "            palindrome = False\n",
    "        i += 1\n",
    "        j -= 1\n",
    "    \n",
    "    return palindrome \n",
    "\n"
   ]
  },
  {
   "cell_type": "code",
   "execution_count": 33,
   "id": "e87ff2aa",
   "metadata": {},
   "outputs": [],
   "source": [
    "def is_palindrome_2(s: str) -> bool:\n",
    "    \"\"\"\n",
    "    Détermine si une chaîne est un palindrome en ignorant la casse et\n",
    "    les caractères non alphanumériques (accents normalisés).\n",
    "\n",
    "    Complexité: O(n) en temps, O(n) en mémoire (pour la version filtrée).\n",
    "    \"\"\"\n",
    "    if s is None:\n",
    "        return False\n",
    "\n",
    "    # Normalisation Unicode (enlève les diacritiques) + minuscule\n",
    "    s_norm = unicodedata.normalize(\"NFD\", s)\n",
    "    s_norm = \"\".join(ch for ch in s_norm if unicodedata.category(ch) != \"Mn\")\n",
    "    s_norm = s_norm.lower()\n",
    "\n",
    "    # Filtrage: on ne garde que les alphanumériques\n",
    "    filtered = [ch for ch in s_norm if ch.isalnum()]\n",
    "\n",
    "    # Test palindrome par comparaison miroir\n",
    "    return filtered == filtered[::-1]"
   ]
  },
  {
   "cell_type": "code",
   "execution_count": null,
   "id": "c39ec00d",
   "metadata": {},
   "outputs": [],
   "source": [
    "is_palindrome_1(\"kayak\")\n",
    "\n",
    "\"\"\" \n",
    "assert is_palindrome_1(\"kayak\") is True\n",
    "assert is_palindrome_1(\"A man, a plan, a canal: Panama!\") is True\n",
    "assert is_palindrome_1(\"été\") is True\n",
    "assert is_palindrome_1(\"python\") is False\n",
    "\n",
    "\"\"\""
   ]
  },
  {
   "cell_type": "code",
   "execution_count": 34,
   "id": "5703b6f2",
   "metadata": {},
   "outputs": [
    {
     "data": {
      "text/plain": [
       "True"
      ]
     },
     "execution_count": 34,
     "metadata": {},
     "output_type": "execute_result"
    }
   ],
   "source": [
    "\n",
    "is_palindrome_0(\"kayak\")"
   ]
  },
  {
   "cell_type": "code",
   "execution_count": 38,
   "id": "0756ed4c",
   "metadata": {},
   "outputs": [],
   "source": [
    "import pytest\n",
    "\n",
    "from katas import is_palindrome_1\n",
    "\n",
    "@pytest.mark.parametrize(\"s,expected\", [\n",
    "    (\"kayak\", True),\n",
    "    (\"\", True),\n",
    "    (\"A man, a plan, a canal: Panama!\", True),\n",
    "    (\"No 'x' in Nixon\", True),\n",
    "    (\"été\", True),                 # avec accents\n",
    "    (\"python\", False),\n",
    "    (\"ab\", False),\n",
    "    (None, False),                 # si vous choisissez de renvoyer False pour None\n",
    "])\n",
    "def test_is_palindrome(s, expected):\n",
    "    assert is_palindrome_1(s) is expected\n"
   ]
  }
 ],
 "metadata": {
  "kernelspec": {
   "display_name": "base",
   "language": "python",
   "name": "python3"
  },
  "language_info": {
   "codemirror_mode": {
    "name": "ipython",
    "version": 3
   },
   "file_extension": ".py",
   "mimetype": "text/x-python",
   "name": "python",
   "nbconvert_exporter": "python",
   "pygments_lexer": "ipython3",
   "version": "3.8.8"
  }
 },
 "nbformat": 4,
 "nbformat_minor": 5
}
